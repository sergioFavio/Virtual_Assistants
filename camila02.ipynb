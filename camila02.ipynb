{
 "cells": [
  {
   "cell_type": "code",
   "execution_count": 6,
   "metadata": {},
   "outputs": [
    {
     "name": "stdout",
     "output_type": "stream",
     "text": [
      "Aguardando o Comando: \n",
      "Aguardando o Comando: \n",
      "Aguardando o Comando: \n",
      "Google no entiende ese audio\n",
      "Aguardando o Comando: \n",
      "Aguardando o Comando: \n",
      "Comando:  alô camila fala para mim \n"
     ]
    }
   ],
   "source": [
    "import speech_recognition as sr\n",
    "#from subprocess import call     # MAC / LINUX\n",
    "from playsound import playsound # WINDOWS\n",
    "\n",
    "##### CONFIGURACIONES #####\n",
    "hotword = 'camila'\n",
    "\n",
    "with open('camilapythonasistente-7723e4c012dd.json') as credenciales_google:\n",
    "    credenciales_google = credenciales_google.read()\n",
    "\n",
    "\n",
    "##### FUNCIONES PRINCIPALES #####\n",
    "\n",
    "def monitorear_audio():\n",
    "    microfono = sr.Recognizer()\n",
    "    with sr.Microphone() as source:\n",
    "        while True:\n",
    "            print(\"Aguardando o Comando: \")\n",
    "            audio = microfono.listen(source)\n",
    "            try:\n",
    "                trigger = microfono.recognize_google_cloud(audio, credentials_json=credenciales_google, language='pt-BR')\n",
    "                trigger = trigger.lower()\n",
    "\n",
    "                if hotword in trigger:\n",
    "                    print('Comando: ', trigger)\n",
    "                    responde('feedback')\n",
    "                    ### ejecutar los comandos\n",
    "                    break\n",
    "\n",
    "            except sr.UnknownValueError:\n",
    "                print(\"Google no entiende ese audio\")\n",
    "            except sr.RequestError as e:\n",
    "                print(\"Could not request results from Google Cloud Speech service; {0}\".format(e))\n",
    "    return trigger\n",
    "\n",
    "def responde(archivo):\n",
    "    #call(['afplay', 'audios/' + arquivo + '.mp3'])\n",
    "    playsound('audios/' + archivo + '.mp3')        # WINDOWS\n",
    "\n",
    "def main():\n",
    "    monitorear_audio()\n",
    "\n",
    "main()\n"
   ]
  }
 ],
 "metadata": {
  "kernelspec": {
   "display_name": "Python 3",
   "language": "python",
   "name": "python3"
  },
  "language_info": {
   "codemirror_mode": {
    "name": "ipython",
    "version": 3
   },
   "file_extension": ".py",
   "mimetype": "text/x-python",
   "name": "python",
   "nbconvert_exporter": "python",
   "pygments_lexer": "ipython3",
   "version": "3.8.5"
  }
 },
 "nbformat": 4,
 "nbformat_minor": 4
}
