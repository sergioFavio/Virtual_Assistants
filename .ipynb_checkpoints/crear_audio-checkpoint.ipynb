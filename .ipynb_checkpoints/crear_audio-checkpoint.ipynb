{
 "cells": [
  {
   "cell_type": "code",
   "execution_count": 2,
   "metadata": {
    "scrolled": true
   },
   "outputs": [],
   "source": [
    "from gtts import gTTS\n",
    "#from subprocess import call     # MAC / LINUX\n",
    "from playsound import playsound # WINDOWS\n",
    "\n",
    "def crear_audio(audio):\n",
    "    tts = gTTS(audio, lang='pt-br')\n",
    "    #tts.save('audios/hola.mp3')\n",
    "    tts.save('audios/feedback.mp3')\n",
    "\n",
    "    #call(['afplay', 'audios/bem_vindo.mp3']) # OSX\n",
    "    #call(['aplay', 'audios/hello.mp3'])  # LINUX\n",
    "    #playsound('audios/hola.mp3')        # WINDOWS\n",
    "    playsound('audios/feedback.mp3')        # WINDOWS\n",
    "\n",
    "\n",
    "#crear_audio('Oi, eu sou a Camila.Como vai voce Sergio querido?')\n",
    "crear_audio('espera aí')"
   ]
  },
  {
   "cell_type": "code",
   "execution_count": null,
   "metadata": {},
   "outputs": [],
   "source": []
  }
 ],
 "metadata": {
  "kernelspec": {
   "display_name": "Python 3",
   "language": "python",
   "name": "python3"
  },
  "language_info": {
   "codemirror_mode": {
    "name": "ipython",
    "version": 3
   },
   "file_extension": ".py",
   "mimetype": "text/x-python",
   "name": "python",
   "nbconvert_exporter": "python",
   "pygments_lexer": "ipython3",
   "version": "3.8.5"
  }
 },
 "nbformat": 4,
 "nbformat_minor": 4
}
