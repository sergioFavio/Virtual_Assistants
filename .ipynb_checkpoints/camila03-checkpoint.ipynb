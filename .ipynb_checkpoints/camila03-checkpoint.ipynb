{
 "cells": [
  {
   "cell_type": "code",
   "execution_count": 1,
   "metadata": {},
   "outputs": [
    {
     "name": "stdout",
     "output_type": "stream",
     "text": [
      "Aguardando o Comando: \n",
      "COMANDO:  camila escuta minha voz camila escuta minha voz \n",
      "CAMILA:   escuta minha voz camila escuta minha voz \n"
     ]
    },
    {
     "ename": "UnicodeDecodeError",
     "evalue": "'utf-8' codec can't decode byte 0xfa in position 49: invalid start byte",
     "output_type": "error",
     "traceback": [
      "\u001b[1;31m---------------------------------------------------------------------------\u001b[0m",
      "\u001b[1;31mUnicodeDecodeError\u001b[0m                        Traceback (most recent call last)",
      "\u001b[1;32m<ipython-input-1-8c990607ce10>\u001b[0m in \u001b[0;36m<module>\u001b[1;34m\u001b[0m\n\u001b[0;32m     71\u001b[0m         \u001b[0mmonitorear_audio\u001b[0m\u001b[1;33m(\u001b[0m\u001b[1;33m)\u001b[0m\u001b[1;33m\u001b[0m\u001b[1;33m\u001b[0m\u001b[0m\n\u001b[0;32m     72\u001b[0m \u001b[1;33m\u001b[0m\u001b[0m\n\u001b[1;32m---> 73\u001b[1;33m \u001b[0mmain\u001b[0m\u001b[1;33m(\u001b[0m\u001b[1;33m)\u001b[0m\u001b[1;33m\u001b[0m\u001b[1;33m\u001b[0m\u001b[0m\n\u001b[0m",
      "\u001b[1;32m<ipython-input-1-8c990607ce10>\u001b[0m in \u001b[0;36mmain\u001b[1;34m()\u001b[0m\n\u001b[0;32m     69\u001b[0m \u001b[1;32mdef\u001b[0m \u001b[0mmain\u001b[0m\u001b[1;33m(\u001b[0m\u001b[1;33m)\u001b[0m\u001b[1;33m:\u001b[0m\u001b[1;33m\u001b[0m\u001b[1;33m\u001b[0m\u001b[0m\n\u001b[0;32m     70\u001b[0m     \u001b[1;32mwhile\u001b[0m \u001b[1;32mTrue\u001b[0m\u001b[1;33m:\u001b[0m\u001b[1;33m\u001b[0m\u001b[1;33m\u001b[0m\u001b[0m\n\u001b[1;32m---> 71\u001b[1;33m         \u001b[0mmonitorear_audio\u001b[0m\u001b[1;33m(\u001b[0m\u001b[1;33m)\u001b[0m\u001b[1;33m\u001b[0m\u001b[1;33m\u001b[0m\u001b[0m\n\u001b[0m\u001b[0;32m     72\u001b[0m \u001b[1;33m\u001b[0m\u001b[0m\n\u001b[0;32m     73\u001b[0m \u001b[0mmain\u001b[0m\u001b[1;33m(\u001b[0m\u001b[1;33m)\u001b[0m\u001b[1;33m\u001b[0m\u001b[1;33m\u001b[0m\u001b[0m\n",
      "\u001b[1;32m<ipython-input-1-8c990607ce10>\u001b[0m in \u001b[0;36mmonitorear_audio\u001b[1;34m()\u001b[0m\n\u001b[0;32m     27\u001b[0m                     \u001b[0mprint\u001b[0m\u001b[1;33m(\u001b[0m\u001b[1;34m'COMANDO: '\u001b[0m\u001b[1;33m,\u001b[0m \u001b[0mtrigger\u001b[0m\u001b[1;33m)\u001b[0m\u001b[1;33m\u001b[0m\u001b[1;33m\u001b[0m\u001b[0m\n\u001b[0;32m     28\u001b[0m                     \u001b[0mresponde\u001b[0m\u001b[1;33m(\u001b[0m\u001b[1;34m'feedback'\u001b[0m\u001b[1;33m)\u001b[0m\u001b[1;33m\u001b[0m\u001b[1;33m\u001b[0m\u001b[0m\n\u001b[1;32m---> 29\u001b[1;33m                     \u001b[0mexecuta_comandos\u001b[0m\u001b[1;33m(\u001b[0m\u001b[0mtrigger\u001b[0m\u001b[1;33m)\u001b[0m\u001b[1;33m\u001b[0m\u001b[1;33m\u001b[0m\u001b[0m\n\u001b[0m\u001b[0;32m     30\u001b[0m                     \u001b[1;32mbreak\u001b[0m\u001b[1;33m\u001b[0m\u001b[1;33m\u001b[0m\u001b[0m\n\u001b[0;32m     31\u001b[0m \u001b[1;33m\u001b[0m\u001b[0m\n",
      "\u001b[1;32m<ipython-input-1-8c990607ce10>\u001b[0m in \u001b[0;36mexecuta_comandos\u001b[1;34m(trigger)\u001b[0m\n\u001b[0;32m     52\u001b[0m     \u001b[1;32melse\u001b[0m\u001b[1;33m:\u001b[0m\u001b[1;33m\u001b[0m\u001b[1;33m\u001b[0m\u001b[0m\n\u001b[0;32m     53\u001b[0m         \u001b[0mmensagem\u001b[0m \u001b[1;33m=\u001b[0m \u001b[0mtrigger\u001b[0m\u001b[1;33m.\u001b[0m\u001b[0mstrip\u001b[0m\u001b[1;33m(\u001b[0m\u001b[0mhotword\u001b[0m\u001b[1;33m)\u001b[0m\u001b[1;33m\u001b[0m\u001b[1;33m\u001b[0m\u001b[0m\n\u001b[1;32m---> 54\u001b[1;33m         \u001b[0mcrear_audio\u001b[0m\u001b[1;33m(\u001b[0m\u001b[0mmensagem\u001b[0m\u001b[1;33m)\u001b[0m\u001b[1;33m\u001b[0m\u001b[1;33m\u001b[0m\u001b[0m\n\u001b[0m\u001b[0;32m     55\u001b[0m         \u001b[0mprint\u001b[0m\u001b[1;33m(\u001b[0m\u001b[1;34m'COMANDO INVALIDO'\u001b[0m\u001b[1;33m,\u001b[0m \u001b[0mmensagem\u001b[0m\u001b[1;33m)\u001b[0m\u001b[1;33m\u001b[0m\u001b[1;33m\u001b[0m\u001b[0m\n\u001b[0;32m     56\u001b[0m         \u001b[0mresponde\u001b[0m\u001b[1;33m(\u001b[0m\u001b[1;34m'comando_invalido'\u001b[0m\u001b[1;33m)\u001b[0m\u001b[1;33m\u001b[0m\u001b[1;33m\u001b[0m\u001b[0m\n",
      "\u001b[1;32m<ipython-input-1-8c990607ce10>\u001b[0m in \u001b[0;36mcrear_audio\u001b[1;34m(mensagem)\u001b[0m\n\u001b[0;32m     45\u001b[0m     \u001b[0mprint\u001b[0m\u001b[1;33m(\u001b[0m\u001b[1;34m'CAMILA: '\u001b[0m\u001b[1;33m,\u001b[0m \u001b[0mmensagem\u001b[0m\u001b[1;33m)\u001b[0m\u001b[1;33m\u001b[0m\u001b[1;33m\u001b[0m\u001b[0m\n\u001b[0;32m     46\u001b[0m     \u001b[1;31m#call(['afplay', 'audios/mensagem.mp3']) # OSX\u001b[0m\u001b[1;33m\u001b[0m\u001b[1;33m\u001b[0m\u001b[1;33m\u001b[0m\u001b[0m\n\u001b[1;32m---> 47\u001b[1;33m     \u001b[0mplaysound\u001b[0m\u001b[1;33m(\u001b[0m\u001b[1;34m'audios/'\u001b[0m \u001b[1;33m+\u001b[0m \u001b[0mmensagem\u001b[0m \u001b[1;33m+\u001b[0m \u001b[1;34m'.mp3'\u001b[0m\u001b[1;33m)\u001b[0m  \u001b[1;31m# WINDOWS\u001b[0m\u001b[1;33m\u001b[0m\u001b[1;33m\u001b[0m\u001b[0m\n\u001b[0m\u001b[0;32m     48\u001b[0m \u001b[1;33m\u001b[0m\u001b[0m\n\u001b[0;32m     49\u001b[0m \u001b[1;32mdef\u001b[0m \u001b[0mexecuta_comandos\u001b[0m\u001b[1;33m(\u001b[0m\u001b[0mtrigger\u001b[0m\u001b[1;33m)\u001b[0m\u001b[1;33m:\u001b[0m\u001b[1;33m\u001b[0m\u001b[1;33m\u001b[0m\u001b[0m\n",
      "\u001b[1;32m~\\Anaconda3\\envs\\camilabot\\lib\\site-packages\\playsound.py\u001b[0m in \u001b[0;36m_playsoundWin\u001b[1;34m(sound, block)\u001b[0m\n\u001b[0;32m     33\u001b[0m \u001b[1;33m\u001b[0m\u001b[0m\n\u001b[0;32m     34\u001b[0m     \u001b[0malias\u001b[0m \u001b[1;33m=\u001b[0m \u001b[1;34m'playsound_'\u001b[0m \u001b[1;33m+\u001b[0m \u001b[0mstr\u001b[0m\u001b[1;33m(\u001b[0m\u001b[0mrandom\u001b[0m\u001b[1;33m(\u001b[0m\u001b[1;33m)\u001b[0m\u001b[1;33m)\u001b[0m\u001b[1;33m\u001b[0m\u001b[1;33m\u001b[0m\u001b[0m\n\u001b[1;32m---> 35\u001b[1;33m     \u001b[0mwinCommand\u001b[0m\u001b[1;33m(\u001b[0m\u001b[1;34m'open \"'\u001b[0m \u001b[1;33m+\u001b[0m \u001b[0msound\u001b[0m \u001b[1;33m+\u001b[0m \u001b[1;34m'\" alias'\u001b[0m\u001b[1;33m,\u001b[0m \u001b[0malias\u001b[0m\u001b[1;33m)\u001b[0m\u001b[1;33m\u001b[0m\u001b[1;33m\u001b[0m\u001b[0m\n\u001b[0m\u001b[0;32m     36\u001b[0m     \u001b[0mwinCommand\u001b[0m\u001b[1;33m(\u001b[0m\u001b[1;34m'set'\u001b[0m\u001b[1;33m,\u001b[0m \u001b[0malias\u001b[0m\u001b[1;33m,\u001b[0m \u001b[1;34m'time format milliseconds'\u001b[0m\u001b[1;33m)\u001b[0m\u001b[1;33m\u001b[0m\u001b[1;33m\u001b[0m\u001b[0m\n\u001b[0;32m     37\u001b[0m     \u001b[0mdurationInMS\u001b[0m \u001b[1;33m=\u001b[0m \u001b[0mwinCommand\u001b[0m\u001b[1;33m(\u001b[0m\u001b[1;34m'status'\u001b[0m\u001b[1;33m,\u001b[0m \u001b[0malias\u001b[0m\u001b[1;33m,\u001b[0m \u001b[1;34m'length'\u001b[0m\u001b[1;33m)\u001b[0m\u001b[1;33m\u001b[0m\u001b[1;33m\u001b[0m\u001b[0m\n",
      "\u001b[1;32m~\\Anaconda3\\envs\\camilabot\\lib\\site-packages\\playsound.py\u001b[0m in \u001b[0;36mwinCommand\u001b[1;34m(*command)\u001b[0m\n\u001b[0;32m     28\u001b[0m             exceptionMessage = ('\\n    Error ' + str(errorCode) + ' for command:'\n\u001b[0;32m     29\u001b[0m                                 \u001b[1;34m'\\n        '\u001b[0m \u001b[1;33m+\u001b[0m \u001b[0mcommand\u001b[0m\u001b[1;33m.\u001b[0m\u001b[0mdecode\u001b[0m\u001b[1;33m(\u001b[0m\u001b[1;33m)\u001b[0m \u001b[1;33m+\u001b[0m\u001b[1;33m\u001b[0m\u001b[1;33m\u001b[0m\u001b[0m\n\u001b[1;32m---> 30\u001b[1;33m                                 '\\n    ' + errorBuffer.value.decode())\n\u001b[0m\u001b[0;32m     31\u001b[0m             \u001b[1;32mraise\u001b[0m \u001b[0mPlaysoundException\u001b[0m\u001b[1;33m(\u001b[0m\u001b[0mexceptionMessage\u001b[0m\u001b[1;33m)\u001b[0m\u001b[1;33m\u001b[0m\u001b[1;33m\u001b[0m\u001b[0m\n\u001b[0;32m     32\u001b[0m         \u001b[1;32mreturn\u001b[0m \u001b[0mbuf\u001b[0m\u001b[1;33m.\u001b[0m\u001b[0mvalue\u001b[0m\u001b[1;33m\u001b[0m\u001b[1;33m\u001b[0m\u001b[0m\n",
      "\u001b[1;31mUnicodeDecodeError\u001b[0m: 'utf-8' codec can't decode byte 0xfa in position 49: invalid start byte"
     ]
    }
   ],
   "source": [
    "from gtts import gTTS\n",
    "import speech_recognition as sr\n",
    "#from subprocess import call     # MAC / LINUX\n",
    "from playsound import playsound # WINDOWS\n",
    "from requests import get\n",
    "from bs4 import BeautifulSoup\n",
    "\n",
    "##### CONFIGURACIONES #####\n",
    "hotword = 'camila'\n",
    "\n",
    "with open('camilapythonasistente-7723e4c012dd.json') as credenciales_google:\n",
    "    credenciales_google = credenciales_google.read()\n",
    "\n",
    "##### FUNCIONES PRINCIPALES #####\n",
    "\n",
    "def monitorear_audio():\n",
    "    microfone = sr.Recognizer()\n",
    "    with sr.Microphone() as source:\n",
    "        while True:\n",
    "            print(\"Aguardando o Comando: \")\n",
    "            audio = microfone.listen(source)\n",
    "            try:\n",
    "                trigger = microfone.recognize_google_cloud(audio, credentials_json=credenciales_google, language='pt-BR')\n",
    "                trigger = trigger.lower()\n",
    "\n",
    "                if hotword in trigger:\n",
    "                    print('COMANDO: ', trigger)\n",
    "                    responde('feedback')\n",
    "                    executa_comandos(trigger)\n",
    "                    break\n",
    "\n",
    "            except sr.UnknownValueError:\n",
    "                print(\"Google no entiende ese audio\")\n",
    "            except sr.RequestError as e:\n",
    "                print(\"Could not request results from Google Cloud Speech service; {0}\".format(e))\n",
    "    return trigger\n",
    "\n",
    "def responde(arquivo):\n",
    "    #call(['afplay', 'audios/' + arquivo + '.mp3']) # OSX\n",
    "    playsound('audios/' + arquivo + '.mp3')  # WINDOWS\n",
    "\n",
    "def crear_audio(mensagem):\n",
    "    tts = gTTS(mensagem, lang='pt-br')\n",
    "    tts.save('audios/mensagem.mp3')\n",
    "    print('CAMILA: ', mensagem)\n",
    "    #call(['afplay', 'audios/mensagem.mp3']) # OSX\n",
    "    playsound('audios/mensagem.mp3')  # WINDOWS\n",
    "\n",
    "def executa_comandos(trigger):\n",
    "    if 'noticias' in trigger:\n",
    "        ultimas_noticias()\n",
    "    else:\n",
    "        mensagem = trigger.strip(hotword)\n",
    "        crear_audio(mensagem)\n",
    "        print('COMANDO INVALIDO', mensagem)\n",
    "        responde('comando_invalido')\n",
    "\n",
    "\n",
    "##### FUNCIONES COMANDOS #####\n",
    "\n",
    "def ultimas_noticias():\n",
    "    site = get('https://news.google.com/news/rss?ned=pt_br&gl=BR&hl=pt')\n",
    "    noticias = BeautifulSoup(site.text, 'html.parser')\n",
    "    for item in noticias.findAll('item')[:5]:\n",
    "        mensagem = item.title.text\n",
    "        cria_audio(mensagem)\n",
    "\n",
    "\n",
    "def main():\n",
    "    while True:\n",
    "        monitorear_audio()\n",
    "\n",
    "main()\n"
   ]
  }
 ],
 "metadata": {
  "kernelspec": {
   "display_name": "Python 3",
   "language": "python",
   "name": "python3"
  },
  "language_info": {
   "codemirror_mode": {
    "name": "ipython",
    "version": 3
   },
   "file_extension": ".py",
   "mimetype": "text/x-python",
   "name": "python",
   "nbconvert_exporter": "python",
   "pygments_lexer": "ipython3",
   "version": "3.8.5"
  }
 },
 "nbformat": 4,
 "nbformat_minor": 4
}
