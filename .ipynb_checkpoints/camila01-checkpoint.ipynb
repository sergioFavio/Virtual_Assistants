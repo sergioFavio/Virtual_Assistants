{
 "cells": [
  {
   "cell_type": "code",
   "execution_count": 10,
   "metadata": {},
   "outputs": [
    {
     "name": "stdout",
     "output_type": "stream",
     "text": [
      "Aguardando o Comando: \n",
      "Oi Mauricinho tudo bom você aí \n"
     ]
    }
   ],
   "source": [
    "import speech_recognition as sr\n",
    "\n",
    "##### CONFIGURACIONES #####\n",
    "with open('camilapythonasistente-7723e4c012dd.json') as credenciales_google:\n",
    "    credenciales_google = credenciales_google.read()\n",
    "\n",
    "def monitorear_audio():\n",
    "    microfono = sr.Recognizer()\n",
    "    with sr.Microphone() as source:\n",
    "        print(\"Aguardando o Comando: \")\n",
    "        audio = microfono.listen(source)\n",
    "    try:\n",
    "        print(microfono.recognize_google_cloud(audio, credentials_json=credenciales_google, language='pt-br'))\n",
    "    except sr.UnknownValueError:\n",
    "        print(\"Google no entiende el audio\")\n",
    "    except sr.RequestError as e:\n",
    "        print(\"Could not request results from Google Cloud Speech service; {0}\".format(e))\n",
    "\n",
    "monitorear_audio()"
   ]
  }
 ],
 "metadata": {
  "kernelspec": {
   "display_name": "Python 3",
   "language": "python",
   "name": "python3"
  },
  "language_info": {
   "codemirror_mode": {
    "name": "ipython",
    "version": 3
   },
   "file_extension": ".py",
   "mimetype": "text/x-python",
   "name": "python",
   "nbconvert_exporter": "python",
   "pygments_lexer": "ipython3",
   "version": "3.8.5"
  }
 },
 "nbformat": 4,
 "nbformat_minor": 4
}
